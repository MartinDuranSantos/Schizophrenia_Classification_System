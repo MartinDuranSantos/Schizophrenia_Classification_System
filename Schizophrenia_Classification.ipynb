{
 "cells": [
  {
   "cell_type": "code",
   "execution_count": 1,
   "metadata": {},
   "outputs": [],
   "source": [
    "def extraction(signal_sample):\n",
    "    sal=0\n",
    "    #for i in range(0,len(signal_sample)):\n",
    "        #if signal_sample[i]<0:\n",
    "        #sal=sal+abs(signal_sample[i])\n",
    "    sal=min(signal_sample)\n",
    "    #sal=sal\n",
    "    return sal"
   ]
  },
  {
   "cell_type": "code",
   "execution_count": 2,
   "metadata": {},
   "outputs": [],
   "source": [
    "def M_feat(signal_gen,person):\n",
    "    w=3072\n",
    "    n=0\n",
    "    signal_extract=np.zeros((w))\n",
    "    features=np.zeros((person,4))\n",
    "    t = np.linspace(0, 3, w)\n",
    "\n",
    "    for p in range(0,person):\n",
    "        features[p,3]=p\n",
    "        for e in range (0,3):\n",
    "            signal_sample=signal_gen[0+w*n:w+w*n]\n",
    "\n",
    "            for i in range(0,w):\n",
    "                if i<1590 or i>1835:\n",
    "                #if i<1590 or i>1700:\n",
    "                    signal_extract[i]=0\n",
    "                else:\n",
    "                    signal_extract[i]=signal_sample[i]\n",
    "    \n",
    "            f=extraction(signal_extract)\n",
    "            features[p,e]=f\n",
    "            #fig = plt.figure()\n",
    "            #print('Person:',p+1,'   Experiment:',e+1,'   Feature:',f)\n",
    "            #plt.plot(t,signal_sample), plt.title('Brain Signal')\n",
    "            #plt.plot(t,signal_extract,linestyle='--')\n",
    "            #plt.xlabel(\"time(s)\")\n",
    "            #plt.ylabel(\"Amplitud(uV)\")\n",
    "            #plt.show()\n",
    "            #fig.savefig('Imagenes_EEG\\Original.jpg')\n",
    "            n=n+1\n",
    "    return features"
   ]
  },
  {
   "cell_type": "code",
   "execution_count": 3,
   "metadata": {},
   "outputs": [],
   "source": [
    "from mpl_toolkits.mplot3d import Axes3D\n",
    "from sklearn.preprocessing import StandardScaler\n",
    "import matplotlib.pyplot as plt\n",
    "import numpy as np\n",
    "import os\n",
    "import pandas as pd\n",
    "import statistics\n",
    "\n",
    "df = pd.read_csv('Proyecto_Final/ERPdata.csv', delimiter=',')\n",
    "df2 = pd.read_csv('Proyecto_Final/demographic.csv', delimiter=',')\n",
    "df.dataframeName = 'ERPdata.csv'\n",
    "df2.dataframeName = 'demographic.csv'\n",
    "nRow, nCol = df.shape\n",
    "nRow2, nCol2 = df2.shape\n",
    "\n",
    "person=81\n",
    "#32 controls and 34 patients\n",
    "#32 controls and 49 patients\n",
    "\n",
    "names2 = df2.Group\n",
    "Y=names2[:person]\n",
    "\n",
    "#electrodes=Fz\tFCz\tCz\tFC3\tFC4\tC3\tC4\tCP3\tCP4\n",
    "names_1=df.Fz \n",
    "names_2=df.FCz \n",
    "names_3=df.Cz\n",
    "names_4=df.FC3\n",
    "\n",
    "signal_gen=np.array(names_1)\n",
    "M1=M_feat(signal_gen,person)\n",
    "\n",
    "signal2_gen=np.array(names_2)\n",
    "M2=M_feat(signal2_gen,person)\n",
    "\n",
    "signal3_gen=np.array(names_3)\n",
    "M3=M_feat(signal3_gen,person)\n",
    "\n",
    "signal4_gen=np.array(names_4)\n",
    "M4=M_feat(signal4_gen,person)"
   ]
  },
  {
   "cell_type": "code",
   "execution_count": 4,
   "metadata": {},
   "outputs": [
    {
     "name": "stdout",
     "output_type": "stream",
     "text": [
      "(746496,)\n",
      "(3072,)\n",
      "Person: 1. Experiment: 1\n"
     ]
    },
    {
     "data": {
      "image/png": "[encoded data removed]",
      "text/plain": [
       "<Figure size 432x288 with 1 Axes>"
      ]
     },
     "metadata": {
      "needs_background": "light"
     },
     "output_type": "display_data"
    }
   ],
   "source": [
    "print(str(names_3.shape)) # 746496 = 3072 x 81 x 3\n",
    "\n",
    "w=3072\n",
    "t = np.linspace(0, 3, w)\n",
    "n=1\n",
    "\n",
    "#signal_prove = names_3[w*n:w+w*n]\n",
    "signal_prove = np.array(names_3[0+w*n:w+w*n]).reshape(w,)\n",
    "print(str(signal_prove.shape))\n",
    "\n",
    "signal_extract=np.zeros(w,)\n",
    "\n",
    "for i in range(0,w):\n",
    "    if i<1590 or i>1835:\n",
    "        signal_extract[i]=0\n",
    "    else:\n",
    "        signal_extract[i]=signal_prove[i]\n",
    "          \n",
    "fig = plt.figure()\n",
    "print('Person: 1. Experiment: 1')\n",
    "plt.plot(t,signal_prove), plt.title('Brain Signal')\n",
    "plt.plot(t,signal_extract,linestyle='--')\n",
    "plt.xlabel(\"time(s)\")\n",
    "plt.ylabel(\"Amplitud(uV)\")\n",
    "plt.show()"
   ]
  },
  {
   "cell_type": "code",
   "execution_count": 5,
   "metadata": {},
   "outputs": [],
   "source": [
    "features=(M1+M2+M3)/3\n"
   ]
  },
  {
   "cell_type": "code",
   "execution_count": 6,
   "metadata": {},
   "outputs": [
    {
     "name": "stdout",
     "output_type": "stream",
     "text": [
      "Xtrain_shape: (60, 4).  Y_test_shape: (21,)\n"
     ]
    },
    {
     "data": {
      "text/plain": [
       "array([0.7 , 0.75, 0.9 ])"
      ]
     },
     "execution_count": 6,
     "metadata": {},
     "output_type": "execute_result"
    }
   ],
   "source": [
    "from sklearn.model_selection import train_test_split\n",
    "from sklearn.linear_model import LogisticRegression\n",
    "from sklearn.model_selection import cross_val_score\n",
    "from sklearn.metrics import confusion_matrix\n",
    "from sklearn.metrics import precision_score, recall_score\n",
    "from sklearn.linear_model import SGDClassifier\n",
    "\n",
    "\n",
    "X=features\n",
    "\n",
    "    \n",
    "X_train, X_test, Y_train, Y_test = train_test_split(X, Y, random_state=4)\n",
    "print(\"Xtrain_shape: \"+str(X_train.shape)+\".  Y_test_shape: \"+str(Y_test.shape))\n",
    "\n",
    "#clf_lr = SGDClassifier(max_iter=1000, tol=1e-3, random_state=42)\n",
    "#clf_lr.fit(X_train, Y_train==1)\n",
    "\n",
    "clf_lr = LogisticRegression(random_state=0, solver='lbfgs',multi_class='multinomial',max_iter=200).fit(X_train, Y_train==1)\n",
    "\n",
    "\n",
    "cross_val_score(clf_lr, X_train, Y_train, cv=3, scoring=\"accuracy\")"
   ]
  },
  {
   "cell_type": "code",
   "execution_count": 7,
   "metadata": {},
   "outputs": [
    {
     "data": {
      "text/plain": [
       "array([[16,  7],\n",
       "       [ 6, 31]])"
      ]
     },
     "execution_count": 7,
     "metadata": {},
     "output_type": "execute_result"
    }
   ],
   "source": [
    "from sklearn.model_selection import cross_val_predict\n",
    "Y_train_pred = cross_val_predict(clf_lr, X_train, Y_train, cv=3)\n",
    "\n",
    "confusion_matrix(Y_train, Y_train_pred)"
   ]
  },
  {
   "cell_type": "code",
   "execution_count": 8,
   "metadata": {},
   "outputs": [
    {
     "data": {
      "text/plain": [
       "0.8157894736842105"
      ]
     },
     "execution_count": 8,
     "metadata": {},
     "output_type": "execute_result"
    }
   ],
   "source": [
    "precision_score(Y_train, Y_train_pred)"
   ]
  },
  {
   "cell_type": "code",
   "execution_count": 9,
   "metadata": {},
   "outputs": [
    {
     "data": {
      "text/plain": [
       "0.8378378378378378"
      ]
     },
     "execution_count": 9,
     "metadata": {},
     "output_type": "execute_result"
    }
   ],
   "source": [
    "recall_score(Y_train, Y_train_pred)"
   ]
  }
 ],
 "metadata": {
  "kernelspec": {
   "display_name": "Python 3",
   "language": "python",
   "name": "python3"
  },
  "language_info": {
   "codemirror_mode": {
    "name": "ipython",
    "version": 3
   },
   "file_extension": ".py",
   "mimetype": "text/x-python",
   "name": "python",
   "nbconvert_exporter": "python",
   "pygments_lexer": "ipython3",
   "version": "3.6.9"
  }
 },
 "nbformat": 4,
 "nbformat_minor": 4
}
